{
 "cells": [
  {
   "cell_type": "markdown",
   "metadata": {},
   "source": [
    "# Analyze Issue Script and Workflow Test\n",
    "\n",
    "This notebook tests the `analyze_issue.py` script and the corresponding GitHub Actions workflow. The tests include validating the OpenAI API key, GitHub token, and running the script to check for errors."
   ]
  },
  {
   "cell_type": "code",
   "execution_count": null,
   "metadata": {},
   "outputs": [],
   "source": [
    "import os\n",
    "import openai\n",
    "import requests\n",
    "from dotenv import load_dotenv\n",
    "\n",
    "# Load environment variables from .env file\n",
    "load_dotenv()\n",
    "\n",
    "# Configuration\n",
    "OPENAI_API_KEY = os.getenv(\"OPENAI_API_KEY\")\n",
    "GITHUB_TOKEN = os.getenv(\"GITHUB_TOKEN\")\n",
    "GITHUB_REPO = os.getenv(\"GITHUB_REPO\")\n",
    "\n",
    "# Set up OpenAI\n",
    "openai.api_key = OPENAI_API_KEY"
   ]
  },
  {
   "cell_type": "markdown",
   "metadata": {},
   "source": [
    "## Validate OpenAI API Key and Permissions"
   ]
  },
  {
   "cell_type": "code",
   "execution_count": null,
   "metadata": {},
   "outputs": [],
   "source": [
    "def validate_openai_api_key():\n",
    "    try:\n",
    "        openai.Model.list()\n",
    "        return True\n",
    "    except openai.error.AuthenticationError:\n",
    "        return False\n",
    "\n",
    "if validate_openai_api_key():\n",
    "    print(\"OpenAI API key is valid and has sufficient permissions.\")\n",
    "else:\n",
    "    print(\"Invalid OpenAI API key or insufficient permissions.\")"
   ]
  },
  {
   "cell_type": "markdown",
   "metadata": {},
   "source": [
    "## Validate GitHub Token and Permissions"
   ]
  },
  {
   "cell_type": "code",
   "execution_count": null,
   "metadata": {},
   "outputs": [],
   "source": [
    "def validate_github_token():\n",
    "    headers = {\n",
    "        \"Authorization\": f\"token {GITHUB_TOKEN}\",\n",
    "        \"Accept\": \"application/vnd.github.v3+json\"\n",
    "    }\n",
    "    url = \"https://api.github.com/user\"\n",
    "    response = requests.get(url, headers=headers)\n",
    "    return response.status_code == 200\n",
    "\n",
    "if validate_github_token():\n",
    "    print(\"GitHub token is valid and has sufficient permissions.\")\n",
    "else:\n",
    "    print(\"Invalid GitHub token or insufficient permissions.\")"
   ]
  },
  {
   "cell_type": "markdown",
   "metadata": {},
   "source": [
    "## Run `analyze_issue.py` Script and Check for Errors"
   ]
  },
  {
   "cell_type": "code",
   "execution_count": null,
   "metadata": {},
   "outputs": [],
   "source": [
    "import subprocess\n",
    "\n",
    "try:\n",
    "    result = subprocess.run([\"python\", \"../.github/scripts/analyze_issue.py\"], check=True, capture_output=True, text=True)\n",
    "    print(\"`analyze_issue.py` script ran successfully.\")\n",
    "    print(result.stdout)\n",
    "except subprocess.CalledProcessError as e:\n",
    "    print(\"Error running `analyze_issue.py` script.\")\n",
    "    print(e.stderr)"
   ]
  }
 ],
 "metadata": {
  "kernelspec": {
   "display_name": ".venv",
   "language": "python",
   "name": "python3"
  },
  "language_info": {
   "codemirror_mode": {
    "name": "ipython",
    "version": 3
   },
   "file_extension": ".py",
   "mimetype": "text/x-python",
   "name": "python",
   "nbconvert_exporter": "python",
   "pygments_lexer": "ipython3",
   "version": "3.11.9"
  }
 },
 "nbformat": 4,
 "nbformat_minor": 2
}
