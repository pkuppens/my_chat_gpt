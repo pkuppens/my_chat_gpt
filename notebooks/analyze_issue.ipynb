{
 "cells": [
  {
   "cell_type": "markdown",
   "metadata": {},
   "source": [
    "# Analyze Issue Script and Workflow Test\n",
    "\n",
    "This notebook tests the `analyze_issue.py` script and the corresponding GitHub Actions workflow. The tests include validating the OpenAI API key, GitHub token, and running the script to check for errors."
   ]
  },
  {
   "cell_type": "code",
   "execution_count": 1,
   "metadata": {},
   "outputs": [],
   "source": [
    "import os\n",
    "import json\n",
    "import openai\n",
    "import requests\n",
    "from dotenv import load_dotenv\n",
    "\n",
    "# Load environment variables from .env file\n",
    "load_dotenv()\n",
    "\n",
    "# Configuration\n",
    "OPENAI_API_KEY = os.getenv(\"OPENAI_API_KEY\")\n",
    "GITHUB_TOKEN = os.getenv(\"GITHUB_TOKEN\")\n",
    "GITHUB_REPO = os.getenv(\"GITHUB_REPO\", \"https://github.com/pkuppens/my_chat_gpt\")\n",
    "\n",
    "# Set up OpenAI\n",
    "openai.api_key = OPENAI_API_KEY"
   ]
  },
  {
   "cell_type": "markdown",
   "metadata": {},
   "source": [
    "## Validate OpenAI API Key and Permissions"
   ]
  },
  {
   "cell_type": "code",
   "execution_count": 2,
   "metadata": {},
   "outputs": [],
   "source": [
    "openai_client = openai.OpenAI()\n",
    "\n",
    "models = openai_client.get(path=\"models\", cast_to=str)\n"
   ]
  },
  {
   "cell_type": "code",
   "execution_count": 3,
   "metadata": {},
   "outputs": [],
   "source": [
    "models_dict= json.loads(models)"
   ]
  },
  {
   "cell_type": "code",
   "execution_count": 4,
   "metadata": {},
   "outputs": [
    {
     "name": "stdout",
     "output_type": "stream",
     "text": [
      "['gpt-4.5-preview', 'omni-moderation-2024-09-26', 'gpt-4.5-preview-2025-02-27', 'gpt-4o-mini-audio-preview-2024-12-17', 'dall-e-3', 'dall-e-2', 'gpt-4o-audio-preview-2024-10-01', 'gpt-4o-audio-preview', 'gpt-4o-mini-realtime-preview-2024-12-17', 'gpt-4o-mini-realtime-preview', 'o1-mini-2024-09-12', 'o1-preview-2024-09-12', 'o1-mini', 'o1-preview', 'gpt-4o-mini-audio-preview', 'whisper-1', 'gpt-4o-2024-05-13', 'gpt-4o-realtime-preview-2024-10-01', 'babbage-002', 'chatgpt-4o-latest', 'tts-1-hd-1106', 'gpt-4o-audio-preview-2024-12-17', 'gpt-4', 'gpt-4o-2024-11-20', 'tts-1-hd', 'gpt-4o-mini-2024-07-18', 'gpt-4o-mini', 'text-embedding-3-large', 'tts-1', 'tts-1-1106', 'gpt-4o-2024-08-06', 'davinci-002', 'gpt-4o', 'gpt-3.5-turbo-1106', 'gpt-4-turbo', 'gpt-3.5-turbo-instruct', 'gpt-3.5-turbo-instruct-0914', 'gpt-3.5-turbo-0125', 'gpt-4-turbo-preview', 'gpt-4o-realtime-preview-2024-12-17', 'gpt-3.5-turbo', 'gpt-4-turbo-2024-04-09', 'gpt-4o-realtime-preview', 'gpt-3.5-turbo-16k', 'gpt-4-0125-preview', 'text-embedding-3-small', 'gpt-4-1106-preview', 'text-embedding-ada-002', 'gpt-4-0613', 'omni-moderation-latest']\n"
     ]
    }
   ],
   "source": [
    "\n",
    "models_ids = [\n",
    "    model[\"id\"]\n",
    "    for model in models_dict.get(\"data\", [])\n",
    "]\n",
    "\n",
    "print(models_ids)"
   ]
  },
  {
   "cell_type": "markdown",
   "metadata": {},
   "source": [
    "## Validate GitHub Token and Permissions"
   ]
  },
  {
   "cell_type": "code",
   "execution_count": 5,
   "metadata": {},
   "outputs": [
    {
     "name": "stdout",
     "output_type": "stream",
     "text": [
      "GitHub token is valid and has sufficient permissions.\n"
     ]
    }
   ],
   "source": [
    "def validate_github_token():\n",
    "    headers = {\n",
    "        \"Authorization\": f\"token {GITHUB_TOKEN}\",\n",
    "        \"Accept\": \"application/vnd.github.v3+json\"\n",
    "    }\n",
    "    url = \"https://api.github.com/user\"\n",
    "    response = requests.get(url, headers=headers)\n",
    "    return response.status_code == 200\n",
    "\n",
    "if validate_github_token():\n",
    "    print(\"GitHub token is valid and has sufficient permissions.\")\n",
    "else:\n",
    "    print(\"Invalid GitHub token or insufficient permissions.\")"
   ]
  },
  {
   "cell_type": "code",
   "execution_count": 6,
   "metadata": {},
   "outputs": [],
   "source": [
    "assert GITHUB_REPO == 'https://github.com/pkuppens/my_chat_gpt', \"Please set the GITHUB_REPO environment variable to your repository URL.\"\n",
    "\n",
    "GITHUB_API_URL = GITHUB_REPO.replace(\"https://github.com\", \"https://api.github.com/repos\")\n"
   ]
  },
  {
   "cell_type": "code",
   "execution_count": 7,
   "metadata": {},
   "outputs": [
    {
     "name": "stdout",
     "output_type": "stream",
     "text": [
      "{\"url\":\"https://api.github.com/repos/pkuppens/my_chat_gpt/issues/21\",\"repository_url\":\"https://api.github.com/repos/pkuppens/my_chat_gpt\",\"labels_url\":\"https://api.github.com/repos/pkuppens/my_chat_gpt/issues/21/labels{/name}\",\"comments_url\":\"https://api.github.com/repos/pkuppens/my_chat_gpt/issues/21/comments\",\"events_url\":\"https://api.github.com/repos/pkuppens/my_chat_gpt/issues/21/events\",\"html_url\":\"https://github.com/pkuppens/my_chat_gpt/issues/21\",\"id\":2865836665,\"node_id\":\"I_kwDOJeQqcc6q0TJ5\",\"number\":21,\"title\":\"Idea: Type of Thought to improve answers.\",\"user\":{\"login\":\"pkuppens\",\"id\":8671392,\"node_id\":\"MDQ6VXNlcjg2NzEzOTI=\",\"avatar_url\":\"https://avatars.githubusercontent.com/u/8671392?v=4\",\"gravatar_id\":\"\",\"url\":\"https://api.github.com/users/pkuppens\",\"html_url\":\"https://github.com/pkuppens\",\"followers_url\":\"https://api.github.com/users/pkuppens/followers\",\"following_url\":\"https://api.github.com/users/pkuppens/following{/other_user}\",\"gists_url\":\"https://api.github.com/users/pkuppens/gists{/gist_id}\",\"starred_url\":\"https://api.github.com/users/pkuppens/starred{/owner}{/repo}\",\"subscriptions_url\":\"https://api.github.com/users/pkuppens/subscriptions\",\"organizations_url\":\"https://api.github.com/users/pkuppens/orgs\",\"repos_url\":\"https://api.github.com/users/pkuppens/repos\",\"events_url\":\"https://api.github.com/users/pkuppens/events{/privacy}\",\"received_events_url\":\"https://api.github.com/users/pkuppens/received_events\",\"type\":\"User\",\"user_view_type\":\"public\",\"site_admin\":false},\"labels\":[],\"state\":\"open\",\"locked\":false,\"assignee\":{\"login\":\"pkuppens\",\"id\":8671392,\"node_id\":\"MDQ6VXNlcjg2NzEzOTI=\",\"avatar_url\":\"https://avatars.githubusercontent.com/u/8671392?v=4\",\"gravatar_id\":\"\",\"url\":\"https://api.github.com/users/pkuppens\",\"html_url\":\"https://github.com/pkuppens\",\"followers_url\":\"https://api.github.com/users/pkuppens/followers\",\"following_url\":\"https://api.github.com/users/pkuppens/following{/other_user}\",\"gists_url\":\"https://api.github.com/users/pkuppens/gists{/gist_id}\",\"starred_url\":\"https://api.github.com/users/pkuppens/starred{/owner}{/repo}\",\"subscriptions_url\":\"https://api.github.com/users/pkuppens/subscriptions\",\"organizations_url\":\"https://api.github.com/users/pkuppens/orgs\",\"repos_url\":\"https://api.github.com/users/pkuppens/repos\",\"events_url\":\"https://api.github.com/users/pkuppens/events{/privacy}\",\"received_events_url\":\"https://api.github.com/users/pkuppens/received_events\",\"type\":\"User\",\"user_view_type\":\"public\",\"site_admin\":false},\"assignees\":[{\"login\":\"pkuppens\",\"id\":8671392,\"node_id\":\"MDQ6VXNlcjg2NzEzOTI=\",\"avatar_url\":\"https://avatars.githubusercontent.com/u/8671392?v=4\",\"gravatar_id\":\"\",\"url\":\"https://api.github.com/users/pkuppens\",\"html_url\":\"https://github.com/pkuppens\",\"followers_url\":\"https://api.github.com/users/pkuppens/followers\",\"following_url\":\"https://api.github.com/users/pkuppens/following{/other_user}\",\"gists_url\":\"https://api.github.com/users/pkuppens/gists{/gist_id}\",\"starred_url\":\"https://api.github.com/users/pkuppens/starred{/owner}{/repo}\",\"subscriptions_url\":\"https://api.github.com/users/pkuppens/subscriptions\",\"organizations_url\":\"https://api.github.com/users/pkuppens/orgs\",\"repos_url\":\"https://api.github.com/users/pkuppens/repos\",\"events_url\":\"https://api.github.com/users/pkuppens/events{/privacy}\",\"received_events_url\":\"https://api.github.com/users/pkuppens/received_events\",\"type\":\"User\",\"user_view_type\":\"public\",\"site_admin\":false}],\"milestone\":null,\"comments\":0,\"created_at\":\"2025-02-20T11:06:28Z\",\"updated_at\":\"2025-03-04T14:12:28Z\",\"closed_at\":null,\"author_association\":\"OWNER\",\"sub_issues_summary\":{\"total\":0,\"completed\":0,\"percent_completed\":0},\"active_lock_reason\":null,\"body\":\"Task: Create sample implementations for the following idea on guiding prompts and issue analysis.\\n\\nFor instance:\\n* memory integration: include a design markdown document in the repo that can be read and used in the analysis\\n* goal setting: issues that require an implementation to be completed could use definition of done as acceptance criteria.\\n\\nThe idea to work from:\\nGuiding prompts with a hint of Thought type might improve answers.\\n\\nThis idea was inspired by: [Hugging Face Agents Course](https://huggingface.co/learn/agents-course/unit1/thoughts)\\n\\n| Type of Thought | Example |\\n|--------|--------|\\n| Planning | “I need to break this task into three steps: 1) gather data, 2) analyze trends, 3) generate report” |\\n| Analysis | “Based on the error message, the issue appears to be with the database connection parameters” |\\n| Decision Making | “Given the user’s budget constraints, I should recommend the mid-tier option” |\\n| Problem Solving | “To optimize this code, I should first profile it to identify bottlenecks” |\\n| Memory Integration | “The user mentioned their preference for Python earlier, so I’ll provide examples in Python” |\\n| Self-Reflection | “My last approach didn’t work well, I should try a different strategy” |\\n| Goal Setting | “To complete this task, I need to first establish the acceptance criteria” |\\n| Prioritization | “The security vulnerability should be addressed before adding new features” |\\n\\n\\n### Note:\\n\\nThis issue feels incomplete and needs refinement (by using LLM's?!):\\n\\n1. LLM's might already be capable of these Types of Thought?!\\n2. The examples might need more guidance for specific problems, e.g. Planning might also need some conclusive remark that these steps will complete the given problem\\n3. The list of 'Type of Thought' could be extended, e.g., by explicitly rejecting alternatives after consideration: declaring some steps or actions 'out-of-scope', or 'rejected alternatives'.\\n4. Can I benefit from interactions between thoughts? E.g. Planning and Goal Setting are related.\\n5. The list contains mostly constructive thoughts, but might also need workarounds for shortcomings, e.g. add thoughts that could reduce hallucinations, or make invalid assumptions on the user input.\",\"closed_by\":null,\"reactions\":{\"url\":\"https://api.github.com/repos/pkuppens/my_chat_gpt/issues/21/reactions\",\"total_count\":0,\"+1\":0,\"-1\":0,\"laugh\":0,\"hooray\":0,\"confused\":0,\"heart\":0,\"rocket\":0,\"eyes\":0},\"timeline_url\":\"https://api.github.com/repos/pkuppens/my_chat_gpt/issues/21/timeline\",\"performed_via_github_app\":null,\"state_reason\":null}\n"
     ]
    }
   ],
   "source": [
    "def get_github_issue(issue_number):\n",
    "    url = f\"{GITHUB_API_URL}/issues/{issue_number}\"\n",
    "    response = requests.get(url)\n",
    "    response.raise_for_status()\n",
    "    return response\n",
    "\n",
    "response = get_github_issue(21)\n",
    "print(response.text)"
   ]
  },
  {
   "cell_type": "code",
   "execution_count": 8,
   "metadata": {},
   "outputs": [
    {
     "name": "stdout",
     "output_type": "stream",
     "text": [
      "Title: Idea: Type of Thought to improve answers.\n",
      "Description: Task: Create sample implementations for the following idea on guiding prompts and issue analysis.\n",
      "\n",
      "For instance:\n",
      "* memory integration: include a design markdown document in the repo that can be read and used in the analysis\n",
      "* goal setting: issues that require an implementation to be completed could use definition of done as acceptance criteria.\n",
      "\n",
      "The idea to work from:\n",
      "Guiding prompts with a hint of Thought type might improve answers.\n",
      "\n",
      "This idea was inspired by: [Hugging Face Agents Course](https://huggingface.co/learn/agents-course/unit1/thoughts)\n",
      "\n",
      "| Type of Thought | Example |\n",
      "|--------|--------|\n",
      "| Planning | “I need to break this task into three steps: 1) gather data, 2) analyze trends, 3) generate report” |\n",
      "| Analysis | “Based on the error message, the issue appears to be with the database connection parameters” |\n",
      "| Decision Making | “Given the user’s budget constraints, I should recommend the mid-tier option” |\n",
      "| Problem Solving | “To optimize this code, I should first profile it to identify bottlenecks” |\n",
      "| Memory Integration | “The user mentioned their preference for Python earlier, so I’ll provide examples in Python” |\n",
      "| Self-Reflection | “My last approach didn’t work well, I should try a different strategy” |\n",
      "| Goal Setting | “To complete this task, I need to first establish the acceptance criteria” |\n",
      "| Prioritization | “The security vulnerability should be addressed before adding new features” |\n",
      "\n",
      "\n",
      "### Note:\n",
      "\n",
      "This issue feels incomplete and needs refinement (by using LLM's?!):\n",
      "\n",
      "1. LLM's might already be capable of these Types of Thought?!\n",
      "2. The examples might need more guidance for specific problems, e.g. Planning might also need some conclusive remark that these steps will complete the given problem\n",
      "3. The list of 'Type of Thought' could be extended, e.g., by explicitly rejecting alternatives after consideration: declaring some steps or actions 'out-of-scope', or 'rejected alternatives'.\n",
      "4. Can I benefit from interactions between thoughts? E.g. Planning and Goal Setting are related.\n",
      "5. The list contains mostly constructive thoughts, but might also need workarounds for shortcomings, e.g. add thoughts that could reduce hallucinations, or make invalid assumptions on the user input.\n"
     ]
    }
   ],
   "source": [
    "issue_data = response.json()\n",
    "title = issue_data[\"title\"]\n",
    "description = issue_data[\"body\"]\n",
    "print(f\"Title: {title}\")\n",
    "print(f\"Description: {description}\")"
   ]
  },
  {
   "cell_type": "code",
   "execution_count": 9,
   "metadata": {},
   "outputs": [
    {
     "data": {
      "text/plain": [
       "{'url': 'https://api.github.com/repos/pkuppens/my_chat_gpt/issues/21',\n",
       " 'repository_url': 'https://api.github.com/repos/pkuppens/my_chat_gpt',\n",
       " 'labels_url': 'https://api.github.com/repos/pkuppens/my_chat_gpt/issues/21/labels{/name}',\n",
       " 'comments_url': 'https://api.github.com/repos/pkuppens/my_chat_gpt/issues/21/comments',\n",
       " 'events_url': 'https://api.github.com/repos/pkuppens/my_chat_gpt/issues/21/events',\n",
       " 'html_url': 'https://github.com/pkuppens/my_chat_gpt/issues/21',\n",
       " 'id': 2865836665,\n",
       " 'node_id': 'I_kwDOJeQqcc6q0TJ5',\n",
       " 'number': 21,\n",
       " 'title': 'Idea: Type of Thought to improve answers.',\n",
       " 'user': {'login': 'pkuppens',\n",
       "  'id': 8671392,\n",
       "  'node_id': 'MDQ6VXNlcjg2NzEzOTI=',\n",
       "  'avatar_url': 'https://avatars.githubusercontent.com/u/8671392?v=4',\n",
       "  'gravatar_id': '',\n",
       "  'url': 'https://api.github.com/users/pkuppens',\n",
       "  'html_url': 'https://github.com/pkuppens',\n",
       "  'followers_url': 'https://api.github.com/users/pkuppens/followers',\n",
       "  'following_url': 'https://api.github.com/users/pkuppens/following{/other_user}',\n",
       "  'gists_url': 'https://api.github.com/users/pkuppens/gists{/gist_id}',\n",
       "  'starred_url': 'https://api.github.com/users/pkuppens/starred{/owner}{/repo}',\n",
       "  'subscriptions_url': 'https://api.github.com/users/pkuppens/subscriptions',\n",
       "  'organizations_url': 'https://api.github.com/users/pkuppens/orgs',\n",
       "  'repos_url': 'https://api.github.com/users/pkuppens/repos',\n",
       "  'events_url': 'https://api.github.com/users/pkuppens/events{/privacy}',\n",
       "  'received_events_url': 'https://api.github.com/users/pkuppens/received_events',\n",
       "  'type': 'User',\n",
       "  'user_view_type': 'public',\n",
       "  'site_admin': False},\n",
       " 'labels': [],\n",
       " 'state': 'open',\n",
       " 'locked': False,\n",
       " 'assignee': {'login': 'pkuppens',\n",
       "  'id': 8671392,\n",
       "  'node_id': 'MDQ6VXNlcjg2NzEzOTI=',\n",
       "  'avatar_url': 'https://avatars.githubusercontent.com/u/8671392?v=4',\n",
       "  'gravatar_id': '',\n",
       "  'url': 'https://api.github.com/users/pkuppens',\n",
       "  'html_url': 'https://github.com/pkuppens',\n",
       "  'followers_url': 'https://api.github.com/users/pkuppens/followers',\n",
       "  'following_url': 'https://api.github.com/users/pkuppens/following{/other_user}',\n",
       "  'gists_url': 'https://api.github.com/users/pkuppens/gists{/gist_id}',\n",
       "  'starred_url': 'https://api.github.com/users/pkuppens/starred{/owner}{/repo}',\n",
       "  'subscriptions_url': 'https://api.github.com/users/pkuppens/subscriptions',\n",
       "  'organizations_url': 'https://api.github.com/users/pkuppens/orgs',\n",
       "  'repos_url': 'https://api.github.com/users/pkuppens/repos',\n",
       "  'events_url': 'https://api.github.com/users/pkuppens/events{/privacy}',\n",
       "  'received_events_url': 'https://api.github.com/users/pkuppens/received_events',\n",
       "  'type': 'User',\n",
       "  'user_view_type': 'public',\n",
       "  'site_admin': False},\n",
       " 'assignees': [{'login': 'pkuppens',\n",
       "   'id': 8671392,\n",
       "   'node_id': 'MDQ6VXNlcjg2NzEzOTI=',\n",
       "   'avatar_url': 'https://avatars.githubusercontent.com/u/8671392?v=4',\n",
       "   'gravatar_id': '',\n",
       "   'url': 'https://api.github.com/users/pkuppens',\n",
       "   'html_url': 'https://github.com/pkuppens',\n",
       "   'followers_url': 'https://api.github.com/users/pkuppens/followers',\n",
       "   'following_url': 'https://api.github.com/users/pkuppens/following{/other_user}',\n",
       "   'gists_url': 'https://api.github.com/users/pkuppens/gists{/gist_id}',\n",
       "   'starred_url': 'https://api.github.com/users/pkuppens/starred{/owner}{/repo}',\n",
       "   'subscriptions_url': 'https://api.github.com/users/pkuppens/subscriptions',\n",
       "   'organizations_url': 'https://api.github.com/users/pkuppens/orgs',\n",
       "   'repos_url': 'https://api.github.com/users/pkuppens/repos',\n",
       "   'events_url': 'https://api.github.com/users/pkuppens/events{/privacy}',\n",
       "   'received_events_url': 'https://api.github.com/users/pkuppens/received_events',\n",
       "   'type': 'User',\n",
       "   'user_view_type': 'public',\n",
       "   'site_admin': False}],\n",
       " 'milestone': None,\n",
       " 'comments': 0,\n",
       " 'created_at': '2025-02-20T11:06:28Z',\n",
       " 'updated_at': '2025-03-04T14:12:28Z',\n",
       " 'closed_at': None,\n",
       " 'author_association': 'OWNER',\n",
       " 'sub_issues_summary': {'total': 0, 'completed': 0, 'percent_completed': 0},\n",
       " 'active_lock_reason': None,\n",
       " 'body': \"Task: Create sample implementations for the following idea on guiding prompts and issue analysis.\\n\\nFor instance:\\n* memory integration: include a design markdown document in the repo that can be read and used in the analysis\\n* goal setting: issues that require an implementation to be completed could use definition of done as acceptance criteria.\\n\\nThe idea to work from:\\nGuiding prompts with a hint of Thought type might improve answers.\\n\\nThis idea was inspired by: [Hugging Face Agents Course](https://huggingface.co/learn/agents-course/unit1/thoughts)\\n\\n| Type of Thought | Example |\\n|--------|--------|\\n| Planning | “I need to break this task into three steps: 1) gather data, 2) analyze trends, 3) generate report” |\\n| Analysis | “Based on the error message, the issue appears to be with the database connection parameters” |\\n| Decision Making | “Given the user’s budget constraints, I should recommend the mid-tier option” |\\n| Problem Solving | “To optimize this code, I should first profile it to identify bottlenecks” |\\n| Memory Integration | “The user mentioned their preference for Python earlier, so I’ll provide examples in Python” |\\n| Self-Reflection | “My last approach didn’t work well, I should try a different strategy” |\\n| Goal Setting | “To complete this task, I need to first establish the acceptance criteria” |\\n| Prioritization | “The security vulnerability should be addressed before adding new features” |\\n\\n\\n### Note:\\n\\nThis issue feels incomplete and needs refinement (by using LLM's?!):\\n\\n1. LLM's might already be capable of these Types of Thought?!\\n2. The examples might need more guidance for specific problems, e.g. Planning might also need some conclusive remark that these steps will complete the given problem\\n3. The list of 'Type of Thought' could be extended, e.g., by explicitly rejecting alternatives after consideration: declaring some steps or actions 'out-of-scope', or 'rejected alternatives'.\\n4. Can I benefit from interactions between thoughts? E.g. Planning and Goal Setting are related.\\n5. The list contains mostly constructive thoughts, but might also need workarounds for shortcomings, e.g. add thoughts that could reduce hallucinations, or make invalid assumptions on the user input.\",\n",
       " 'closed_by': None,\n",
       " 'reactions': {'url': 'https://api.github.com/repos/pkuppens/my_chat_gpt/issues/21/reactions',\n",
       "  'total_count': 0,\n",
       "  '+1': 0,\n",
       "  '-1': 0,\n",
       "  'laugh': 0,\n",
       "  'hooray': 0,\n",
       "  'confused': 0,\n",
       "  'heart': 0,\n",
       "  'rocket': 0,\n",
       "  'eyes': 0},\n",
       " 'timeline_url': 'https://api.github.com/repos/pkuppens/my_chat_gpt/issues/21/timeline',\n",
       " 'performed_via_github_app': None,\n",
       " 'state_reason': None}"
      ]
     },
     "execution_count": 9,
     "metadata": {},
     "output_type": "execute_result"
    }
   ],
   "source": [
    "issue_data"
   ]
  },
  {
   "cell_type": "code",
   "execution_count": 10,
   "metadata": {},
   "outputs": [],
   "source": [
    "from SuperPrompt import load_analyze_issue_prompt, ISSUE_TYPES, PRIORITY_LEVELS"
   ]
  },
  {
   "cell_type": "code",
   "execution_count": 11,
   "metadata": {},
   "outputs": [
    {
     "data": {
      "text/plain": [
       "{'title': 'Idea: Type of Thought to improve answers.',\n",
       " 'description': \"Task: Create sample implementations for the following idea on guiding prompts and issue analysis.\\n\\nFor instance:\\n* memory integration: include a design markdown document in the repo that can be read and used in the analysis\\n* goal setting: issues that require an implementation to be completed could use definition of done as acceptance criteria.\\n\\nThe idea to work from:\\nGuiding prompts with a hint of Thought type might improve answers.\\n\\nThis idea was inspired by: [Hugging Face Agents Course](https://huggingface.co/learn/agents-course/unit1/thoughts)\\n\\n| Type of Thought | Example |\\n|--------|--------|\\n| Planning | “I need to break this task into three steps: 1) gather data, 2) analyze trends, 3) generate report” |\\n| Analysis | “Based on the error message, the issue appears to be with the database connection parameters” |\\n| Decision Making | “Given the user’s budget constraints, I should recommend the mid-tier option” |\\n| Problem Solving | “To optimize this code, I should first profile it to identify bottlenecks” |\\n| Memory Integration | “The user mentioned their preference for Python earlier, so I’ll provide examples in Python” |\\n| Self-Reflection | “My last approach didn’t work well, I should try a different strategy” |\\n| Goal Setting | “To complete this task, I need to first establish the acceptance criteria” |\\n| Prioritization | “The security vulnerability should be addressed before adding new features” |\\n\\n\\n### Note:\\n\\nThis issue feels incomplete and needs refinement (by using LLM's?!):\\n\\n1. LLM's might already be capable of these Types of Thought?!\\n2. The examples might need more guidance for specific problems, e.g. Planning might also need some conclusive remark that these steps will complete the given problem\\n3. The list of 'Type of Thought' could be extended, e.g., by explicitly rejecting alternatives after consideration: declaring some steps or actions 'out-of-scope', or 'rejected alternatives'.\\n4. Can I benefit from interactions between thoughts? E.g. Planning and Goal Setting are related.\\n5. The list contains mostly constructive thoughts, but might also need workarounds for shortcomings, e.g. add thoughts that could reduce hallucinations, or make invalid assumptions on the user input.\",\n",
       " 'issue_types': 'Epic, Change Request, Bug Fix, Task, Question',\n",
       " 'priority_levels': 'Critical, High, Medium, Low',\n",
       " 'issue_title': 'Idea: Type of Thought to improve answers.',\n",
       " 'issue_body': \"Task: Create sample implementations for the following idea on guiding prompts and issue analysis.\\n\\nFor instance:\\n* memory integration: include a design markdown document in the repo that can be read and used in the analysis\\n* goal setting: issues that require an implementation to be completed could use definition of done as acceptance criteria.\\n\\nThe idea to work from:\\nGuiding prompts with a hint of Thought type might improve answers.\\n\\nThis idea was inspired by: [Hugging Face Agents Course](https://huggingface.co/learn/agents-course/unit1/thoughts)\\n\\n| Type of Thought | Example |\\n|--------|--------|\\n| Planning | “I need to break this task into three steps: 1) gather data, 2) analyze trends, 3) generate report” |\\n| Analysis | “Based on the error message, the issue appears to be with the database connection parameters” |\\n| Decision Making | “Given the user’s budget constraints, I should recommend the mid-tier option” |\\n| Problem Solving | “To optimize this code, I should first profile it to identify bottlenecks” |\\n| Memory Integration | “The user mentioned their preference for Python earlier, so I’ll provide examples in Python” |\\n| Self-Reflection | “My last approach didn’t work well, I should try a different strategy” |\\n| Goal Setting | “To complete this task, I need to first establish the acceptance criteria” |\\n| Prioritization | “The security vulnerability should be addressed before adding new features” |\\n\\n\\n### Note:\\n\\nThis issue feels incomplete and needs refinement (by using LLM's?!):\\n\\n1. LLM's might already be capable of these Types of Thought?!\\n2. The examples might need more guidance for specific problems, e.g. Planning might also need some conclusive remark that these steps will complete the given problem\\n3. The list of 'Type of Thought' could be extended, e.g., by explicitly rejecting alternatives after consideration: declaring some steps or actions 'out-of-scope', or 'rejected alternatives'.\\n4. Can I benefit from interactions between thoughts? E.g. Planning and Goal Setting are related.\\n5. The list contains mostly constructive thoughts, but might also need workarounds for shortcomings, e.g. add thoughts that could reduce hallucinations, or make invalid assumptions on the user input.\",\n",
       " 'issue_data': {'url': 'https://api.github.com/repos/pkuppens/my_chat_gpt/issues/21',\n",
       "  'repository_url': 'https://api.github.com/repos/pkuppens/my_chat_gpt',\n",
       "  'labels_url': 'https://api.github.com/repos/pkuppens/my_chat_gpt/issues/21/labels{/name}',\n",
       "  'comments_url': 'https://api.github.com/repos/pkuppens/my_chat_gpt/issues/21/comments',\n",
       "  'events_url': 'https://api.github.com/repos/pkuppens/my_chat_gpt/issues/21/events',\n",
       "  'html_url': 'https://github.com/pkuppens/my_chat_gpt/issues/21',\n",
       "  'id': 2865836665,\n",
       "  'node_id': 'I_kwDOJeQqcc6q0TJ5',\n",
       "  'number': 21,\n",
       "  'title': 'Idea: Type of Thought to improve answers.',\n",
       "  'user': {'login': 'pkuppens',\n",
       "   'id': 8671392,\n",
       "   'node_id': 'MDQ6VXNlcjg2NzEzOTI=',\n",
       "   'avatar_url': 'https://avatars.githubusercontent.com/u/8671392?v=4',\n",
       "   'gravatar_id': '',\n",
       "   'url': 'https://api.github.com/users/pkuppens',\n",
       "   'html_url': 'https://github.com/pkuppens',\n",
       "   'followers_url': 'https://api.github.com/users/pkuppens/followers',\n",
       "   'following_url': 'https://api.github.com/users/pkuppens/following{/other_user}',\n",
       "   'gists_url': 'https://api.github.com/users/pkuppens/gists{/gist_id}',\n",
       "   'starred_url': 'https://api.github.com/users/pkuppens/starred{/owner}{/repo}',\n",
       "   'subscriptions_url': 'https://api.github.com/users/pkuppens/subscriptions',\n",
       "   'organizations_url': 'https://api.github.com/users/pkuppens/orgs',\n",
       "   'repos_url': 'https://api.github.com/users/pkuppens/repos',\n",
       "   'events_url': 'https://api.github.com/users/pkuppens/events{/privacy}',\n",
       "   'received_events_url': 'https://api.github.com/users/pkuppens/received_events',\n",
       "   'type': 'User',\n",
       "   'user_view_type': 'public',\n",
       "   'site_admin': False},\n",
       "  'labels': [],\n",
       "  'state': 'open',\n",
       "  'locked': False,\n",
       "  'assignee': {'login': 'pkuppens',\n",
       "   'id': 8671392,\n",
       "   'node_id': 'MDQ6VXNlcjg2NzEzOTI=',\n",
       "   'avatar_url': 'https://avatars.githubusercontent.com/u/8671392?v=4',\n",
       "   'gravatar_id': '',\n",
       "   'url': 'https://api.github.com/users/pkuppens',\n",
       "   'html_url': 'https://github.com/pkuppens',\n",
       "   'followers_url': 'https://api.github.com/users/pkuppens/followers',\n",
       "   'following_url': 'https://api.github.com/users/pkuppens/following{/other_user}',\n",
       "   'gists_url': 'https://api.github.com/users/pkuppens/gists{/gist_id}',\n",
       "   'starred_url': 'https://api.github.com/users/pkuppens/starred{/owner}{/repo}',\n",
       "   'subscriptions_url': 'https://api.github.com/users/pkuppens/subscriptions',\n",
       "   'organizations_url': 'https://api.github.com/users/pkuppens/orgs',\n",
       "   'repos_url': 'https://api.github.com/users/pkuppens/repos',\n",
       "   'events_url': 'https://api.github.com/users/pkuppens/events{/privacy}',\n",
       "   'received_events_url': 'https://api.github.com/users/pkuppens/received_events',\n",
       "   'type': 'User',\n",
       "   'user_view_type': 'public',\n",
       "   'site_admin': False},\n",
       "  'assignees': [{'login': 'pkuppens',\n",
       "    'id': 8671392,\n",
       "    'node_id': 'MDQ6VXNlcjg2NzEzOTI=',\n",
       "    'avatar_url': 'https://avatars.githubusercontent.com/u/8671392?v=4',\n",
       "    'gravatar_id': '',\n",
       "    'url': 'https://api.github.com/users/pkuppens',\n",
       "    'html_url': 'https://github.com/pkuppens',\n",
       "    'followers_url': 'https://api.github.com/users/pkuppens/followers',\n",
       "    'following_url': 'https://api.github.com/users/pkuppens/following{/other_user}',\n",
       "    'gists_url': 'https://api.github.com/users/pkuppens/gists{/gist_id}',\n",
       "    'starred_url': 'https://api.github.com/users/pkuppens/starred{/owner}{/repo}',\n",
       "    'subscriptions_url': 'https://api.github.com/users/pkuppens/subscriptions',\n",
       "    'organizations_url': 'https://api.github.com/users/pkuppens/orgs',\n",
       "    'repos_url': 'https://api.github.com/users/pkuppens/repos',\n",
       "    'events_url': 'https://api.github.com/users/pkuppens/events{/privacy}',\n",
       "    'received_events_url': 'https://api.github.com/users/pkuppens/received_events',\n",
       "    'type': 'User',\n",
       "    'user_view_type': 'public',\n",
       "    'site_admin': False}],\n",
       "  'milestone': None,\n",
       "  'comments': 0,\n",
       "  'created_at': '2025-02-20T11:06:28Z',\n",
       "  'updated_at': '2025-03-04T14:12:28Z',\n",
       "  'closed_at': None,\n",
       "  'author_association': 'OWNER',\n",
       "  'sub_issues_summary': {'total': 0, 'completed': 0, 'percent_completed': 0},\n",
       "  'active_lock_reason': None,\n",
       "  'body': \"Task: Create sample implementations for the following idea on guiding prompts and issue analysis.\\n\\nFor instance:\\n* memory integration: include a design markdown document in the repo that can be read and used in the analysis\\n* goal setting: issues that require an implementation to be completed could use definition of done as acceptance criteria.\\n\\nThe idea to work from:\\nGuiding prompts with a hint of Thought type might improve answers.\\n\\nThis idea was inspired by: [Hugging Face Agents Course](https://huggingface.co/learn/agents-course/unit1/thoughts)\\n\\n| Type of Thought | Example |\\n|--------|--------|\\n| Planning | “I need to break this task into three steps: 1) gather data, 2) analyze trends, 3) generate report” |\\n| Analysis | “Based on the error message, the issue appears to be with the database connection parameters” |\\n| Decision Making | “Given the user’s budget constraints, I should recommend the mid-tier option” |\\n| Problem Solving | “To optimize this code, I should first profile it to identify bottlenecks” |\\n| Memory Integration | “The user mentioned their preference for Python earlier, so I’ll provide examples in Python” |\\n| Self-Reflection | “My last approach didn’t work well, I should try a different strategy” |\\n| Goal Setting | “To complete this task, I need to first establish the acceptance criteria” |\\n| Prioritization | “The security vulnerability should be addressed before adding new features” |\\n\\n\\n### Note:\\n\\nThis issue feels incomplete and needs refinement (by using LLM's?!):\\n\\n1. LLM's might already be capable of these Types of Thought?!\\n2. The examples might need more guidance for specific problems, e.g. Planning might also need some conclusive remark that these steps will complete the given problem\\n3. The list of 'Type of Thought' could be extended, e.g., by explicitly rejecting alternatives after consideration: declaring some steps or actions 'out-of-scope', or 'rejected alternatives'.\\n4. Can I benefit from interactions between thoughts? E.g. Planning and Goal Setting are related.\\n5. The list contains mostly constructive thoughts, but might also need workarounds for shortcomings, e.g. add thoughts that could reduce hallucinations, or make invalid assumptions on the user input.\",\n",
       "  'closed_by': None,\n",
       "  'reactions': {'url': 'https://api.github.com/repos/pkuppens/my_chat_gpt/issues/21/reactions',\n",
       "   'total_count': 0,\n",
       "   '+1': 0,\n",
       "   '-1': 0,\n",
       "   'laugh': 0,\n",
       "   'hooray': 0,\n",
       "   'confused': 0,\n",
       "   'heart': 0,\n",
       "   'rocket': 0,\n",
       "   'eyes': 0},\n",
       "  'timeline_url': 'https://api.github.com/repos/pkuppens/my_chat_gpt/issues/21/timeline',\n",
       "  'performed_via_github_app': None,\n",
       "  'state_reason': None}}"
      ]
     },
     "execution_count": 11,
     "metadata": {},
     "output_type": "execute_result"
    }
   ],
   "source": [
    "placeholders = {\n",
    "    \"title\": title,\n",
    "    \"description\": description,\n",
    "    \"issue_types\": ', '.join(ISSUE_TYPES),\n",
    "    \"priority_levels\": ', '.join(PRIORITY_LEVELS),\n",
    "    \"issue_title\": issue_data['title'],\n",
    "    \"issue_body\": issue_data['body'],\n",
    "    \"issue_data\": issue_data\n",
    "}\n",
    "placeholders"
   ]
  },
  {
   "cell_type": "code",
   "execution_count": 12,
   "metadata": {},
   "outputs": [
    {
     "data": {
      "text/plain": [
       "\"    Analyze and review this GitHub issue and provide the following:\\n    1. Issue Type (select one): Epic, Change Request, Bug Fix, Task, Question\\n    2. Priority (select one): Critical, High, Medium, Low\\n    3. Estimated complexity (select one): Simple, Moderate, Complex\\n    4. Feedback:\\n        1. the Title is clear and concise, and matches the description - or suggests improvements\\n        2. the Description is unambiguous, detailed, and provides necessary context - or suggests improvements\\n        3. the Description is SMART (Specific, Measurable, Achievable, Relevant, Time-bound) - or suggests improvements\\n        4. any additional comments or suggestions for the issue\\n    5. Analysis:\\n        Depending on the issue type, provide a detailed analysis of the issue, including:\\n        1. Summarize the key points of the issue (for a Bug Fix, this might be a root cause analysis)\\n        2. Identify any potential blockers, dependencies, ambiguities, risks, conflicts (a Change Request may conflict with other projects)\\n        3. Identify unclear requirements, explicitly asking for missing information, or clarifications\\n    6. Planning:\\n        1. Break down the issue into smaller tasks or sub-issues, if applicable:\\n            - Don't break down simple Tasks, call this a Step\\n            - Change Requests may require a few Steps and Tasks (e.g. 2-5) (Tasks are created as separate issues)\\n            - Epics may require multiple Steps, Tasks, or Change Requests (e.g. 5-10), that will be created as separate issues\\n        2. List the breakdown in a checklist format, with each item having a clear goal or outcome\\n    7. Goal Setting:\\n        1. Define the goal or outcome of the issue, in a SMART format (Specific, Measurable, Achievable, Relevant, Time-bound)\\n        2. Define the success criteria for the issue, including any acceptance criteria or tests\\n        3. Include relevant requirements, like test coverage and documentation updates when applicable\\n    \\n    FORMAT YOUR RESPONSE AS YAML, with the following keys:\\n    - issue_type\\n    - priority\\n    - complexity\\n    - review feedback\\n    - analysis\\n    - planning\\n    - goals\\n\\n    ISSUE TITLE: Idea: Type of Thought to improve answers.\\n\\n    ISSUE DESCRIPTION:\\n    Task: Create sample implementations for the following idea on guiding prompts and issue analysis.\\n\\nFor instance:\\n* memory integration: include a design markdown document in the repo that can be read and used in the analysis\\n* goal setting: issues that require an implementation to be completed could use definition of done as acceptance criteria.\\n\\nThe idea to work from:\\nGuiding prompts with a hint of Thought type might improve answers.\\n\\nThis idea was inspired by: [Hugging Face Agents Course](https://huggingface.co/learn/agents-course/unit1/thoughts)\\n\\n| Type of Thought | Example |\\n|--------|--------|\\n| Planning | “I need to break this task into three steps: 1) gather data, 2) analyze trends, 3) generate report” |\\n| Analysis | “Based on the error message, the issue appears to be with the database connection parameters” |\\n| Decision Making | “Given the user’s budget constraints, I should recommend the mid-tier option” |\\n| Problem Solving | “To optimize this code, I should first profile it to identify bottlenecks” |\\n| Memory Integration | “The user mentioned their preference for Python earlier, so I’ll provide examples in Python” |\\n| Self-Reflection | “My last approach didn’t work well, I should try a different strategy” |\\n| Goal Setting | “To complete this task, I need to first establish the acceptance criteria” |\\n| Prioritization | “The security vulnerability should be addressed before adding new features” |\\n\\n\\n### Note:\\n\\nThis issue feels incomplete and needs refinement (by using LLM's?!):\\n\\n1. LLM's might already be capable of these Types of Thought?!\\n2. The examples might need more guidance for specific problems, e.g. Planning might also need some conclusive remark that these steps will complete the given problem\\n3. The list of 'Type of Thought' could be extended, e.g., by explicitly rejecting alternatives after consideration: declaring some steps or actions 'out-of-scope', or 'rejected alternatives'.\\n4. Can I benefit from interactions between thoughts? E.g. Planning and Goal Setting are related.\\n5. The list contains mostly constructive thoughts, but might also need workarounds for shortcomings, e.g. add thoughts that could reduce hallucinations, or make invalid assumptions on the user input.\\n\""
      ]
     },
     "execution_count": 12,
     "metadata": {},
     "output_type": "execute_result"
    }
   ],
   "source": [
    "prompt = load_analyze_issue_prompt(placeholders)\n",
    "prompt"
   ]
  },
  {
   "cell_type": "markdown",
   "metadata": {},
   "source": []
  },
  {
   "cell_type": "markdown",
   "metadata": {},
   "source": [
    "## Proof of Concept: Example Review Results on a File"
   ]
  },
  {
   "cell_type": "code",
   "execution_count": null,
   "metadata": {},
   "outputs": [
    {
     "name": "stdout",
     "output_type": "stream",
     "text": [
      "Reviewing notebooks/review_test_script.py against PEP 8...\n",
      "No issues found.\n"
     ]
    }
   ],
   "source": [
    "from smolagents import tool\n",
    "\n",
    "@tool\n",
    "def review_file(file_path: str, style_guide: str) -> str:\n",
    "    \"\"\"Review a file for a certain style guide.\n",
    "\n",
    "    Args:\n",
    "        file_path: The path to the file to review.\n",
    "        style_guide: The style guide to review against.\n",
    "\n",
    "    Returns:\n",
    "        str: The review results.\n",
    "    \"\"\"\n",
    "    with open(file_path, 'r') as file:\n",
    "        content = file.read()\n",
    "\n",
    "    # Placeholder for actual review logic\n",
    "    review_results = f\"Reviewing {file_path} against {style_guide}...\\n\"\n",
    "\n",
    "    # Here we would run the actual review logic, passing content and style_guide to an LLM\n",
    "    review_results += \"No issues found.\"\n",
    "\n",
    "    return review_results\n",
    "\n",
    "example_file_path = \"notebooks/review_test_script.py\"\n",
    "example_style_guide = \"PEP 8\"\n",
    "\n",
    "review_results = review_file(example_file_path, example_style_guide)\n",
    "print(review_results)"
   ]
  }
 ],
 "metadata": {
  "kernelspec": {
   "display_name": ".venv",
   "language": "python",
   "name": "python3"
  },
  "language_info": {
   "codemirror_mode": {
    "name": "ipython",
    "version": 3
   },
   "file_extension": ".py",
   "mimetype": "text/x-python",
   "name": "python",
   "nbconvert_exporter": "python",
   "pygments_lexer": "ipython3",
   "version": "3.11.9"
  }
 },
 "nbformat": 4,
 "nbformat_minor": 2
}
