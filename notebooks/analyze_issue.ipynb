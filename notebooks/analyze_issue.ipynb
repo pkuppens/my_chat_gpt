{
 "cells": [
  {
   "cell_type": "markdown",
   "metadata": {},
   "source": [
    "# Analyze Issue Script and Workflow Test\n",
    "\n",
    "This notebook tests the `analyze_issue.py` script and the corresponding GitHub Actions workflow. The tests include validating the OpenAI API key, GitHub token, and running the script to check for errors."
   ]
  },
  {
   "cell_type": "code",
   "execution_count": null,
   "metadata": {},
   "outputs": [],
   "source": [
    "import os\n",
    "import json\n",
    "import openai\n",
    "import requests\n",
    "from dotenv import load_dotenv\n",
    "\n",
    "# Load environment variables from .env file\n",
    "load_dotenv()\n",
    "\n",
    "# Configuration\n",
    "OPENAI_API_KEY = os.getenv(\"OPENAI_API_KEY\")\n",
    "GITHUB_TOKEN = os.getenv(\"GITHUB_TOKEN\")\n",
    "GITHUB_REPO = os.getenv(\"GITHUB_REPO\", \"https://github.com/pkuppens/my_chat_gpt\")\n",
    "\n",
    "# Set up OpenAI\n",
    "openai.api_key = OPENAI_API_KEY"
   ]
  },
  {
   "cell_type": "markdown",
   "metadata": {},
   "source": [
    "## Validate OpenAI API Key and Permissions"
   ]
  },
  {
   "cell_type": "code",
   "execution_count": null,
   "metadata": {},
   "outputs": [],
   "source": [
    "openai_client = openai.OpenAI()\n",
    "\n",
    "models = openai_client.get(path=\"models\", cast_to=str)\n"
   ]
  },
  {
   "cell_type": "code",
   "execution_count": null,
   "metadata": {},
   "outputs": [],
   "source": [
    "models_dict= json.loads(models)"
   ]
  },
  {
   "cell_type": "code",
   "execution_count": null,
   "metadata": {},
   "outputs": [],
   "source": [
    "\n",
    "models_ids = [\n",
    "    model[\"id\"]\n",
    "    for model in models_dict.get(\"data\", [])\n",
    "]\n",
    "\n",
    "print(models_ids)"
   ]
  },
  {
   "cell_type": "markdown",
   "metadata": {},
   "source": [
    "## Validate GitHub Token and Permissions"
   ]
  },
  {
   "cell_type": "code",
   "execution_count": null,
   "metadata": {},
   "outputs": [],
   "source": [
    "def validate_github_token():\n",
    "    headers = {\n",
    "        \"Authorization\": f\"token {GITHUB_TOKEN}\",\n",
    "        \"Accept\": \"application/vnd.github.v3+json\"\n",
    "    }\n",
    "    url = \"https://api.github.com/user\"\n",
    "    response = requests.get(url, headers=headers)\n",
    "    response.raise_for_status()\n",
    "    return True\n",
    "\n",
    "if validate_github_token():\n",
    "    print(\"GitHub token is valid.\")\n",
    "else:\n",
    "    print(\"Invalid GitHub token or insufficient permissions.\")"
   ]
  },
  {
   "cell_type": "code",
   "execution_count": null,
   "metadata": {},
   "outputs": [],
   "source": [
    "assert GITHUB_REPO == 'https://github.com/pkuppens/my_chat_gpt', \"Please set the GITHUB_REPO environment variable to your repository URL.\"\n",
    "\n",
    "GITHUB_API_URL = GITHUB_REPO.replace(\"https://github.com\", \"https://api.github.com/repos\")\n"
   ]
  },
  {
   "cell_type": "code",
   "execution_count": null,
   "metadata": {},
   "outputs": [],
   "source": [
    "def get_github_issue(issue_number):\n",
    "    url = f\"{GITHUB_API_URL}/issues/{issue_number}\"\n",
    "    response = requests.get(url)\n",
    "    response.raise_for_status()\n",
    "    return response\n",
    "\n",
    "response = get_github_issue(21)\n",
    "print(response.text)"
   ]
  },
  {
   "cell_type": "code",
   "execution_count": null,
   "metadata": {},
   "outputs": [],
   "source": [
    "issue_data = response.json()\n",
    "title = issue_data[\"title\"]\n",
    "description = issue_data[\"body\"]\n",
    "print(f\"Title: {title}\")\n",
    "print(f\"Description: {description}\")"
   ]
  },
  {
   "cell_type": "code",
   "execution_count": null,
   "metadata": {},
   "outputs": [],
   "source": [
    "issue_data"
   ]
  },
  {
   "cell_type": "code",
   "execution_count": null,
   "metadata": {},
   "outputs": [],
   "source": [
    "from SuperPrompt import load_analyze_issue_prompt, ISSUE_TYPES, PRIORITY_LEVELS"
   ]
  },
  {
   "cell_type": "code",
   "execution_count": null,
   "metadata": {},
   "outputs": [],
   "source": [
    "placeholders = {\n",
    "    \"title\": title,\n",
    "    \"description\": description,\n",
    "    \"issue_types\": ', '.join(ISSUE_TYPES),\n",
    "    \"priority_levels\": ', '.join(PRIORITY_LEVELS),\n",
    "    \"issue_title\": issue_data['title'],\n",
    "    \"issue_body\": issue_data['body'],\n",
    "    \"issue_data\": issue_data\n",
    "}\n",
    "placeholders"
   ]
  },
  {
   "cell_type": "code",
   "execution_count": null,
   "metadata": {},
   "outputs": [],
   "source": [
    "prompt = load_analyze_issue_prompt(placeholders)\n",
    "prompt"
   ]
  },
  {
   "cell_type": "markdown",
   "metadata": {},
   "source": [
    "## Proof of Concept: Example Review Results on a File"
   ]
  },
  {
   "cell_type": "code",
   "execution_count": null,
   "metadata": {},
   "outputs": [],
   "source": [
    "from smolagents import tool\n",
    "\n",
    "@tool\n",
    "def review_file(file_path: str, style_guide: str) -> str:\n",
    "    \"\"\"Review a file for a certain style guide.\n",
    "\n",
    "    Args:\n",
    "        file_path: The path to the file to review.\n",
    "        style_guide: The style guide to review against.\n",
    "\n",
    "    Returns:\n",
    "        str: The review results.\n",
    "    \"\"\"\n",
    "    with open(file_path, 'r') as file:\n",
    "        content = file.read()\n",
    "\n",
    "    # Placeholder for actual review logic\n",
    "    review_results = f\"Reviewing '{file_path}' against {style_guide}...\\n\"\n",
    "\n",
    "    # TODO: run the actual review logic, passing content and style_guide to an LLM\n",
    "    review_results += \"\\nNot yet implemented.\"\n",
    "\n",
    "    return review_results\n",
    "\n",
    "example_file_path = \"notebooks/review_test_script.py\"\n",
    "example_style_guide = \"PEP 8\"\n",
    "\n",
    "review_results = review_file(example_file_path, example_style_guide)\n",
    "print(review_results)"
   ]
  }
 ],
 "metadata": {
  "kernelspec": {
   "display_name": ".venv",
   "language": "python",
   "name": "python3"
  },
  "language_info": {
   "codemirror_mode": {
    "name": "ipython",
    "version": 3
   },
   "file_extension": ".py",
   "mimetype": "text/x-python",
   "name": "python",
   "nbconvert_exporter": "python",
   "pygments_lexer": "ipython3",
   "version": "3.11.9"
  }
 },
 "nbformat": 4,
 "nbformat_minor": 2
}
