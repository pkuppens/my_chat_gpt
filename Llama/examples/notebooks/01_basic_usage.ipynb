{
 "cells": [
  {
   "cell_type": "markdown",
   "metadata": {},
   "source": [
    "# Basic Ollama Usage\n",
    "\n",
    "This notebook demonstrates basic usage of Ollama with Python, including:\n",
    "- Basic model interaction\n",
    "- Streaming responses\n",
    "- Error handling\n",
    "- Parameter configuration"
   ]
  },
  {
   "cell_type": "code",
   "execution_count": null,
   "metadata": {},
   "outputs": [],
   "source": [
    "import requests\n",
    "import json\n",
    "from typing import Generator, Optional"
   ]
  },
  {
   "cell_type": "code",
   "execution_count": null,
   "metadata": {},
   "outputs": [],
   "source": [
    "class OllamaClient:\n",
    "    def __init__(self, base_url: str = \"http://localhost:11434\"):\n",
    "        self.base_url = base_url\n",
    "\n",
    "    def generate(\n",
    "        self, prompt: str, model: str = \"llama3.1:latest\", stream: bool = False, temperature: float = 0.1, top_p: float = 0.9\n",
    "    ) -> Optional[str]:\n",
    "        \"\"\"Generate a response from the model.\"\"\"\n",
    "        url = f\"{self.base_url}/api/generate\"\n",
    "\n",
    "        payload = {\"model\": model, \"prompt\": prompt, \"stream\": stream, \"options\": {\"temperature\": temperature, \"top_p\": top_p}}\n",
    "\n",
    "        try:\n",
    "            response = requests.post(url, json=payload)\n",
    "            response.raise_for_status()\n",
    "\n",
    "            if stream:\n",
    "                return self._handle_stream(response)\n",
    "            else:\n",
    "                return response.json()[\"response\"]\n",
    "\n",
    "        except requests.exceptions.RequestException as e:\n",
    "            print(f\"Error: {e}\")\n",
    "            return None\n",
    "\n",
    "    def _handle_stream(self, response: requests.Response) -> Generator[str, None, None]:\n",
    "        \"\"\"Handle streaming responses.\"\"\"\n",
    "        for line in response.iter_lines():\n",
    "            if line:\n",
    "                try:\n",
    "                    chunk = json.loads(line)\n",
    "                    yield chunk[\"response\"]\n",
    "                except json.JSONDecodeError:\n",
    "                    continue"
   ]
  },
  {
   "cell_type": "markdown",
   "metadata": {},
   "source": [
    "## Basic Connectivity\n",
    "\n",
    "### Check if Ollama is up and running by asking the api version\n",
    "\n",
    "### Check which models are supported\n"
   ]
  },
  {
   "cell_type": "code",
   "execution_count": null,
   "metadata": {},
   "outputs": [],
   "source": [
    "import requests\n",
    "\n",
    "\n",
    "def check_ollama_connectivity(base_url=\"http://localhost:11434\"):\n",
    "    \"\"\"\n",
    "    Checks if the Ollama server is up and running by querying the API version.\n",
    "\n",
    "    Args:\n",
    "        base_url (str): The base URL of the Ollama server.\n",
    "\n",
    "    Returns:\n",
    "        tuple: A tuple containing a boolean indicating success and a message.\n",
    "    \"\"\"\n",
    "    try:\n",
    "        response = requests.get(f\"{base_url}/api/version\")\n",
    "        response.raise_for_status()  # Raise an exception for bad status codes\n",
    "        return True, \"Ollama server is up and running.\", response.json()\n",
    "    except requests.exceptions.ConnectionError:\n",
    "        return False, \"Failed to connect to Ollama server. Is it running?\", None\n",
    "    except requests.exceptions.RequestException as e:\n",
    "        return False, f\"Error checking Ollama version: {e}\", None\n",
    "\n",
    "\n",
    "def get_available_models(base_url=\"http://localhost:11434\"):\n",
    "    \"\"\"\n",
    "    Retrieves the list of available models from the Ollama server.\n",
    "\n",
    "    Args:\n",
    "        base_url (str): The base URL of the Ollama server.\n",
    "\n",
    "    Returns:\n",
    "        tuple: A tuple containing a boolean indicating success and either a list of models or an error message.\n",
    "    \"\"\"\n",
    "    try:\n",
    "        response = requests.get(f\"{base_url}/api/tags\")\n",
    "        response.raise_for_status()\n",
    "        data = response.json()\n",
    "        models = [model[\"name\"] for model in data.get(\"models\", [])]\n",
    "        return True, models\n",
    "    except requests.exceptions.ConnectionError:\n",
    "        return False, \"Failed to connect to Ollama server.\"\n",
    "    except requests.exceptions.RequestException as e:\n",
    "        return False, f\"Error retrieving models: {e}\"\n",
    "    except (KeyError, ValueError) as e:\n",
    "        return False, f\"Error parsing response: {e}\""
   ]
  },
  {
   "cell_type": "code",
   "execution_count": null,
   "metadata": {},
   "outputs": [],
   "source": [
    "connected, message, version = check_ollama_connectivity()\n",
    "print(version, message)"
   ]
  },
  {
   "cell_type": "code",
   "execution_count": null,
   "metadata": {},
   "outputs": [],
   "source": [
    "success, models = get_available_models()\n",
    "print(models)"
   ]
  },
  {
   "cell_type": "markdown",
   "metadata": {},
   "source": [
    "## Basic Generation"
   ]
  },
  {
   "cell_type": "code",
   "execution_count": null,
   "metadata": {},
   "outputs": [],
   "source": [
    "# Create client\n",
    "client = OllamaClient()\n",
    "\n",
    "# Generate response\n",
    "response = client.generate(\"What is the capital of France?\")\n",
    "print(response)"
   ]
  },
  {
   "cell_type": "markdown",
   "metadata": {},
   "source": [
    "## Streaming Generation"
   ]
  },
  {
   "cell_type": "code",
   "execution_count": null,
   "metadata": {},
   "outputs": [],
   "source": [
    "# Generate streaming response\n",
    "for chunk in client.generate(\"Tell me a short story\", stream=True):\n",
    "    print(chunk, end=\"\", flush=True)\n",
    "print()"
   ]
  },
  {
   "cell_type": "markdown",
   "metadata": {},
   "source": [
    "## Parameter Configuration"
   ]
  },
  {
   "cell_type": "code",
   "execution_count": null,
   "metadata": {},
   "outputs": [],
   "source": [
    "# Generate with custom parameters\n",
    "response = client.generate(\n",
    "    \"Write a creative story\",\n",
    "    temperature=0.9,  # More creative\n",
    "    top_p=0.95,  # More diverse outputs\n",
    ")\n",
    "print(response)"
   ]
  },
  {
   "cell_type": "markdown",
   "metadata": {},
   "source": [
    "## Error Handling"
   ]
  },
  {
   "cell_type": "code",
   "execution_count": null,
   "metadata": {},
   "outputs": [],
   "source": [
    "# Test with invalid model\n",
    "response = client.generate(\"Hello\", model=\"invalid-model\")\n",
    "print(response)"
   ]
  }
 ],
 "metadata": {
  "kernelspec": {
   "display_name": ".venv",
   "language": "python",
   "name": "python3"
  },
  "language_info": {
   "codemirror_mode": {
    "name": "ipython",
    "version": 3
   },
   "file_extension": ".py",
   "mimetype": "text/x-python",
   "name": "python",
   "nbconvert_exporter": "python",
   "pygments_lexer": "ipython3",
   "version": "3.12.9"
  }
 },
 "nbformat": 4,
 "nbformat_minor": 4
}
